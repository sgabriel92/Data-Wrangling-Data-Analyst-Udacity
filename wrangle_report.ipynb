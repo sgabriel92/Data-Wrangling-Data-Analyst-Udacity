{
 "cells": [
  {
   "cell_type": "markdown",
   "metadata": {},
   "source": [
    "# Wrangle Report\n",
    "\n",
    "## Gathering Data for the Project\n",
    "For this project three different sources were used to gather data and in a variety of formats. For each source a different gathering method was used. I assess its quality and tidiness, then clean it. This process is called data wrangling.\n",
    "\n",
    "The dataset that I will be wrangling (and analyzing and visualizing) is the tweet archive of Twitter user @dog_rates, also known as WeRateDogs. WeRateDogs is a Twitter account that rates people's dogs with a humorous comment about the dog.\n",
    "\n",
    "### Three data sources:\n",
    "The WeRateDogs Twitter archive provided by Udacity. This contains basic tweet data for all 5000+ of their tweets, but not everything.\n",
    "\n",
    "Image Predictions File\n",
    "The tweet image predictions, i.e., what breed of dog (or other object, animal, etc.) is present in each tweet according to a neural network. This file (image_predictions.tsv) is hosted on Udacity's servers and should be downloaded programmatically using the Requests library and the following URL: image_predictions.tsv\n",
    "\n",
    "Data via the Twitter API\n",
    "Each tweet's retweet count and favorite (\"like\") count at minimum, and any additional data that is interesting. Using the tweet IDs in the WeRateDogs Twitter archive, query the Twitter API for each tweet's JSON data using Python's Tweepy library and store each tweet's entire set of JSON data in a file called tweet_json.txt file. Each tweet's JSON data should be written to its own line. Then read this .txt file line by line into a pandas DataFrame with (at minimum) tweet ID, retweet count, and favorite count.\n",
    "\n",
    "\n",
    "### Methods Used:\n",
    "- Importing data via csv\n",
    "- Using requests library to download data off internet\n",
    "- Gather data through twitters API\n",
    "\n",
    "\n",
    "## Assessing data\n",
    "After assessing the data I identified the following issues I will work in context of this project:\n",
    "\n",
    "### Quality issues\n",
    "- df_twitter_archive dataframe\n",
    "- Incorrect names or missing names in name column such as, a, an, the... - all are written with lower case letters\n",
    "- retweeted_status_timestamp, timestamp should be datetime instead of object (string).\n",
    "- in_reply_to_status_id, in_reply_to_user_id, retweeted_status_id, retweeted_status_user_id should be integers/strings instead of float.\n",
    "- In several columns null objects are non-null (None to NaN).\n",
    "- df_predictions dataframe\n",
    "- Remove duplicate jpg_url entries\n",
    "- Remove entries that have p1_dog, p2_dog, & p3_dog values set to false. These are not dogs of any kind.\n",
    "- tweet_list dataframe¶\n",
    "- Remove retweets\n",
    "- created_at should be of datatime datatype instead of string\n",
    "\n",
    "### Tidiness issues\n",
    "- Combine the 4 dog category columns into a single column in the df_twitter_archive table\n",
    "- Join df_twitter_archive, df_predictions and tweet_list tables\n",
    "\n",
    "## Cleaning Data\n",
    "I used to my knowledge of python and researched online on sites like Stackoverflow to clean the data sets and fix the issues I identified. \n",
    "\n",
    "## Analyze and Visualize\n",
    "After cleaning the data and creating one single dataset I analyze the data and visualized two of those insights as a bar chart and pie chart\n",
    "### Insights:\n",
    "- Cooper is most used Dog name\n",
    "- Clumber is the dog breed with the highest numerator\n",
    "- Pupper is the most found dog category\n"
   ]
  },
  {
   "cell_type": "code",
   "execution_count": null,
   "metadata": {},
   "outputs": [],
   "source": []
  }
 ],
 "metadata": {
  "kernelspec": {
   "display_name": "Python 3",
   "language": "python",
   "name": "python3"
  },
  "language_info": {
   "codemirror_mode": {
    "name": "ipython",
    "version": 3
   },
   "file_extension": ".py",
   "mimetype": "text/x-python",
   "name": "python",
   "nbconvert_exporter": "python",
   "pygments_lexer": "ipython3",
   "version": "3.8.10"
  }
 },
 "nbformat": 4,
 "nbformat_minor": 2
}
